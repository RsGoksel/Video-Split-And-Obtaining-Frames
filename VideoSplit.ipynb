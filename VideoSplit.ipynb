{
 "cells": [
  {
   "cell_type": "markdown",
   "id": "fbb1d454-a4d4-4a21-bcb2-c4b5617a2aa3",
   "metadata": {},
   "source": [
    "Video Split / Re-Merge"
   ]
  },
  {
   "cell_type": "code",
   "execution_count": null,
   "id": "466a2579-ff11-425f-9265-f80e32b48aa8",
   "metadata": {},
   "outputs": [],
   "source": [
    "import cv2\n",
    "import glob\n",
    "import re\n",
    "import os\n",
    "\n",
    "vid_path = \"./\"+ \"Video_Media\" +\".mp4\"\n",
    "save_path = \"./Outputs/\"\n",
    "output_name = \"./\"+\"Output_Name\"+\".mp4\"\n",
    "\n",
    "if not os.path.exists(save_path):\n",
    "    os.makedirs(save_path)\n",
    "    \n",
    "#Video medyası alınır / Taking the video file\n",
    "vidcap = cv2.VideoCapture(vid_path)\n",
    "success,image = vidcap.read()\n",
    "count = 1\n",
    "success = True\n",
    "\n",
    "#Görseller kayıt dosyasına videodan kare kare alınarak kaydedilir / Images are saving frame by frame\n",
    "while success:\n",
    "    success,image = vidcap.read()\n",
    "    if success:\n",
    "        cv2.imwrite(save_path+\"frame_%d.jpg\" % count, image)           \n",
    "        count += 1\n",
    "\n",
    "        \n",
    "#yeni video medyası taslagı olusturulur / Creating new video template with its name\n",
    "video = cv2.VideoCapture(vid_path)\n",
    "current_fps = video.get(cv2.CAP_PROP_FPS) # yeni video fps degeri. Opsiyonel olarak degistirilebilir. / New videos fps value. optionally changable \n",
    "video.release()\n",
    "\n",
    "img_array = []\n",
    "size = None\n",
    "\n",
    "#Videoya dönüştürülecek görseller alınır / Taking the images which wil ltransform to video\n",
    "image_files = sorted(glob.glob('outputs/frame_*.jpg'), key=lambda x: int(re.findall(r'\\d+', x)[0]))\n",
    "for filename in image_files:\n",
    "    img = cv2.imread(filename)\n",
    "    \n",
    "    if size is None:\n",
    "        height, width, _ = img.shape\n",
    "        size = (width, height)\n",
    "    \n",
    "    img_array.append(img)\n",
    "\n",
    "out = cv2.VideoWriter(output_name, cv2.VideoWriter_fourcc(*'mp4v'), 30, size)\n",
    "\n",
    "for img in img_array:\n",
    "    out.write(img)\n",
    "out.release()\n",
    "    "
   ]
  },
  {
   "cell_type": "code",
   "execution_count": null,
   "id": "50fecbad-4cd9-4c16-b05b-26f2acdd425d",
   "metadata": {
    "tags": []
   },
   "outputs": [],
   "source": []
  },
  {
   "cell_type": "markdown",
   "id": "5b07ae02-dadb-442f-9484-47f61eec2a46",
   "metadata": {},
   "source": [
    " "
   ]
  }
 ],
 "metadata": {
  "kernelspec": {
   "display_name": "tf",
   "language": "python",
   "name": "tf"
  },
  "language_info": {
   "codemirror_mode": {
    "name": "ipython",
    "version": 3
   },
   "file_extension": ".py",
   "mimetype": "text/x-python",
   "name": "python",
   "nbconvert_exporter": "python",
   "pygments_lexer": "ipython3",
   "version": "3.9.0"
  }
 },
 "nbformat": 4,
 "nbformat_minor": 5
}
